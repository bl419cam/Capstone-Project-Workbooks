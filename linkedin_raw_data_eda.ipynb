{
 "cells": [
  {
   "cell_type": "code",
   "execution_count": 1,
   "metadata": {},
   "outputs": [],
   "source": [
    "import numpy as np\n",
    "import pandas as pd\n",
    "import json\n",
    "import gzip\n",
    "import seaborn as sns\n",
    "import timeit\n",
    "import os\n",
    "import pickle\n",
    "\n",
    "%matplotlib inline"
   ]
  },
  {
   "cell_type": "code",
   "execution_count": 2,
   "metadata": {},
   "outputs": [
    {
     "name": "stdout",
     "output_type": "stream",
     "text": [
      "['linkedin.edges', '.DS_Store', 'linkedin.nodes', 'linkedin.json']\n"
     ]
    }
   ],
   "source": [
    "#read data source\n",
    "data_dir = './linkedin_data'\n",
    "profiles_path = os.path.join(data_dir, 'linkedin.json')\n",
    "print(os.listdir(data_dir))"
   ]
  },
  {
   "cell_type": "code",
   "execution_count": 3,
   "metadata": {},
   "outputs": [
    {
     "name": "stdout",
     "output_type": "stream",
     "text": [
      "Number of profiles 2985334\n"
     ]
    }
   ],
   "source": [
    "#check total number of profiles\n",
    "num_records = 0\n",
    "for line in open(profiles_path):\n",
    "    num_records += 1\n",
    "print('Number of profiles', num_records)"
   ]
  },
  {
   "cell_type": "code",
   "execution_count": 4,
   "metadata": {},
   "outputs": [
    {
     "name": "stdout",
     "output_type": "stream",
     "text": [
      "Time:  0.8506644900189713\n"
     ]
    }
   ],
   "source": [
    "#load small number of profiles for preview, first 10,000\n",
    "num_profiles_loaded = 10000\n",
    "\n",
    "profiles = []\n",
    "\n",
    "start = timeit.default_timer()\n",
    "\n",
    "for line in open(profiles_path):\n",
    "    if len(profiles) < num_profiles_loaded:\n",
    "        line = json.loads(line)\n",
    "        profiles.append(line)\n",
    "    else:\n",
    "        break\n",
    "        \n",
    "stop = timeit.default_timer()\n",
    "\n",
    "print('Time: ', stop - start)"
   ]
  },
  {
   "cell_type": "code",
   "execution_count": 5,
   "metadata": {},
   "outputs": [
    {
     "data": {
      "text/plain": [
       "{'_id': 'in-00000001',\n",
       " 'name': {'family_name': 'Mazalu MBA', 'given_name': 'Dr Catalin'},\n",
       " 'locality': 'United States',\n",
       " 'skills': ['Key Account Development',\n",
       "  'Strategic Planning',\n",
       "  'Market Planning',\n",
       "  'Team Leadership',\n",
       "  'Negotiation',\n",
       "  'Forecasting',\n",
       "  'Key Account Management',\n",
       "  'Sales Management',\n",
       "  'New Business Development',\n",
       "  'Business Planning',\n",
       "  'Cross-functional Team Leadership',\n",
       "  'Budgeting',\n",
       "  'Strategy Development',\n",
       "  'Business Strategy',\n",
       "  'Consultative Selling',\n",
       "  'Medical Devices',\n",
       "  'Customer Relations',\n",
       "  'Contract Negotiation',\n",
       "  'Mentoring',\n",
       "  'Coaching',\n",
       "  'Healthcare',\n",
       "  'Territory',\n",
       "  'Sales Process',\n",
       "  'Direct Sales',\n",
       "  'Sales Operations',\n",
       "  'Pharmaceutical Sales'],\n",
       " 'industry': 'Medical Devices',\n",
       " 'summary': 'SALES MANAGEMENT / BUSINESS DEVELOPMENT / PROJECT MANAGEMENTDOMESTIC & INTERNATIONAL KEY ACCOUNT MANAGEMENTBusiness and Sales Executive with 20 years of accomplished career track, reflecting extensive experience and dynamic record-breaking performance in the Medical Industry markets. Exceptional communicator, strong team player, flexible self-starter with consultative sales style, strong negotiations skills, exceptional problem solving abilities, and accurate customer assessment aptitude. Manage and lead teams to success, drive new business through key accounts management, establish partnerships, manage solid distributor relationship for increased profitability and sales volumes. Very well organized, accurate and on-time administrative work, with a track record that demonstrates self-motivation, creativity, sales team leadership, initiative to achieve corporate, team and personal goals. Experience in the following markets: Medical Devices, Medical Disposables, Capital Equipment, Pharmaceuticals.',\n",
       " 'url': 'http://www.linkedin.com/in/00000001',\n",
       " 'also_view': [{'url': 'http://www.linkedin.com/pub/krisa-drost/45/909/513',\n",
       "   'id': 'pub-krisa-drost-45-909-513'},\n",
       "  {'url': 'http://ro.linkedin.com/pub/florin-ut/18/b33/77b',\n",
       "   'id': 'pub-florin-ut-18-b33-77b'},\n",
       "  {'url': 'http://ro.linkedin.com/pub/cristian-radu/21/225/149',\n",
       "   'id': 'pub-cristian-radu-21-225-149'},\n",
       "  {'url': 'http://ro.linkedin.com/pub/traian-rusu/16/652/279',\n",
       "   'id': 'pub-traian-rusu-16-652-279'},\n",
       "  {'url': 'http://ro.linkedin.com/pub/dumitrescu-catalin/3/283/92',\n",
       "   'id': 'pub-dumitrescu-catalin-3-283-92'},\n",
       "  {'url': 'http://www.linkedin.com/pub/jody-brelsford/9/21a/354',\n",
       "   'id': 'pub-jody-brelsford-9-21a-354'},\n",
       "  {'url': 'http://www.linkedin.com/pub/mary-anne-dilloway/2/55a/18',\n",
       "   'id': 'pub-mary-anne-dilloway-2-55a-18'},\n",
       "  {'url': 'http://ro.linkedin.com/pub/carmen-baleanu/2b/252/203',\n",
       "   'id': 'pub-carmen-baleanu-2b-252-203'},\n",
       "  {'url': 'http://il.linkedin.com/in/shimonlobel', 'id': 'in-shimonlobel'},\n",
       "  {'url': 'http://ro.linkedin.com/pub/monica-danilescu/19/36a/121',\n",
       "   'id': 'pub-monica-danilescu-19-36a-121'}]}"
      ]
     },
     "execution_count": 5,
     "metadata": {},
     "output_type": "execute_result"
    }
   ],
   "source": [
    "profiles[0]"
   ]
  },
  {
   "cell_type": "code",
   "execution_count": null,
   "metadata": {},
   "outputs": [],
   "source": []
  }
 ],
 "metadata": {
  "kernelspec": {
   "display_name": "Python 3",
   "language": "python",
   "name": "python3"
  },
  "language_info": {
   "codemirror_mode": {
    "name": "ipython",
    "version": 3
   },
   "file_extension": ".py",
   "mimetype": "text/x-python",
   "name": "python",
   "nbconvert_exporter": "python",
   "pygments_lexer": "ipython3",
   "version": "3.6.10"
  }
 },
 "nbformat": 4,
 "nbformat_minor": 2
}
